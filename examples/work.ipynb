{
 "cells": [
  {
   "cell_type": "code",
   "execution_count": 1,
   "metadata": {},
   "outputs": [],
   "source": [
    "import numpy as np\n",
    "import pylab as pl\n",
    "from tqdm import tqdm\n",
    "from pathlib import Path"
   ]
  },
  {
   "cell_type": "code",
   "execution_count": 6,
   "metadata": {},
   "outputs": [],
   "source": [
    "for fname in tqdm(Path(\"results/\").glob(\"*.npz\")):\n",
    "    data = np.load(fname)\n",
    "    xedges = data[\"x_edges\"]\n",
    "    yedges = data[\"y_edges\"]\n",
    "    hist = data[\"hist\"]\n",
    "    fig = pl.figure(figsize=(6, 6))\n",
    "\n",
    "    gs = fig.add_gridspec(2, 2,  width_ratios=(4, 1), height_ratios=(1, 4),\n",
    "                      left=0.1, right=0.9, bottom=0.1, top=0.9,\n",
    "                      wspace=0.05, hspace=0.05)\n",
    "\n",
    "    ax = fig.add_subplot(gs[1, 0])\n",
    "    pc = ax.pcolormesh(xedges, yedges, hist)\n",
    "    ax.set_xlim(xedges[0], xedges[-1])\n",
    "    ax.set_ylim(yedges[0], yedges[-1])\n",
    "    ax_histx = fig.add_subplot(gs[0, 0], sharex=ax)\n",
    "    ax_histx.plot(xedges[:-1], hist.sum(axis=0))\n",
    "    ax_histy = fig.add_subplot(gs[1, 1], sharey=ax)\n",
    "    ax_histy.plot(hist.sum(axis=1), yedges[:-1])\n",
    "    fig.savefig(f\"{fname.parent / fname.stem}.pdf\")"
   ]
  },
  {
   "cell_type": "code",
   "execution_count": null,
   "metadata": {},
   "outputs": [],
   "source": []
  }
 ],
 "metadata": {
  "kernelspec": {
   "display_name": "base",
   "language": "python",
   "name": "python3"
  },
  "language_info": {
   "codemirror_mode": {
    "name": "ipython",
    "version": 3
   },
   "file_extension": ".py",
   "mimetype": "text/x-python",
   "name": "python",
   "nbconvert_exporter": "python",
   "pygments_lexer": "ipython3",
   "version": "3.10.4"
  },
  "orig_nbformat": 4
 },
 "nbformat": 4,
 "nbformat_minor": 2
}
